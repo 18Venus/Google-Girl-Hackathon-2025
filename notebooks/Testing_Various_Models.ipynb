{
 "cells": [
  {
   "cell_type": "markdown",
   "id": "ef238631-49b7-41c3-98cd-4229603c6b98",
   "metadata": {},
   "source": [
    "### Testing different Models to find the best model"
   ]
  },
  {
   "cell_type": "code",
   "execution_count": 19,
   "id": "5907b767-ba81-4c25-a8fe-f2a39fea6700",
   "metadata": {},
   "outputs": [
    {
     "name": "stdout",
     "output_type": "stream",
     "text": [
      "                 Function_Name  Cyclomatic_Complexity  Function_Length  \\\n",
      "0  find_most_frequent_elements                      2                4   \n",
      "1                     do_thing                      4                6   \n",
      "2               reverse_string                      1                3   \n",
      "3               calculate_area                      2                5   \n",
      "4                   sum_values                      1                2   \n",
      "\n",
      "   Number_of_Loops  Modularity  Comment_Quality  Naming_Quality  Final_Score  \n",
      "0                1           9                7               8          8.0  \n",
      "1                2           3                0               3          2.0  \n",
      "2                1          10                9              10          9.0  \n",
      "3                0           9                6               7          7.0  \n",
      "4                0          10                8               9          8.0  \n",
      "Function_Name            0\n",
      "Cyclomatic_Complexity    0\n",
      "Function_Length          0\n",
      "Number_of_Loops          0\n",
      "Modularity               0\n",
      "Comment_Quality          0\n",
      "Naming_Quality           0\n",
      "Final_Score              0\n",
      "dtype: int64\n",
      "Function_Name             object\n",
      "Cyclomatic_Complexity      int64\n",
      "Function_Length            int64\n",
      "Number_of_Loops            int64\n",
      "Modularity                 int64\n",
      "Comment_Quality            int64\n",
      "Naming_Quality             int64\n",
      "Final_Score              float64\n",
      "dtype: object\n",
      "       Cyclomatic_Complexity  Function_Length  Number_of_Loops  Modularity  \\\n",
      "count              58.000000        58.000000        58.000000   58.000000   \n",
      "mean                4.224138         5.862069         1.568966    3.586207   \n",
      "std                 2.347399         1.849118         0.957190    2.435372   \n",
      "min                 1.000000         2.000000         0.000000    1.000000   \n",
      "25%                 3.000000         4.250000         1.000000    2.000000   \n",
      "50%                 4.000000         6.000000         1.000000    3.000000   \n",
      "75%                 5.000000         7.000000         2.000000    3.000000   \n",
      "max                10.000000        10.000000         5.000000   10.000000   \n",
      "\n",
      "       Comment_Quality  Naming_Quality  Final_Score  \n",
      "count        58.000000       58.000000    58.000000  \n",
      "mean          4.362069        5.517241     5.137931  \n",
      "std           3.819150        3.367759     3.159215  \n",
      "min           0.000000        0.000000     0.500000  \n",
      "25%           0.000000        2.250000     2.000000  \n",
      "50%           5.500000        6.000000     4.250000  \n",
      "75%           8.000000        9.000000     8.000000  \n",
      "max          10.000000       10.000000     9.500000  \n"
     ]
    }
   ],
   "source": [
    "import pandas as pd\n",
    "df = pd.read_csv('function_quality_scores.csv')\n",
    "print(df.head())\n",
    "print(df.isnull().sum())\n",
    "print(df.dtypes)\n",
    "print(df.describe())"
   ]
  },
  {
   "cell_type": "code",
   "execution_count": 20,
   "id": "3e30867b-401e-4644-99f9-1550f6a5e2e6",
   "metadata": {},
   "outputs": [],
   "source": [
    "from sklearn.preprocessing import MinMaxScaler\n",
    "columns_to_scale = ['Cyclomatic_Complexity', 'Function_Length', 'Modularity',  'Number_of_Loops','Comment_Quality', 'Naming_Quality']\n",
    "# Min-Max scaling\n",
    "scaler = MinMaxScaler()\n",
    "df[columns_to_scale] = scaler.fit_transform(df[columns_to_scale])\n"
   ]
  },
  {
   "cell_type": "code",
   "execution_count": 21,
   "id": "f4fe2d29-c87d-41dd-b451-8af9091e20df",
   "metadata": {},
   "outputs": [
    {
     "name": "stdout",
     "output_type": "stream",
     "text": [
      "                       Cyclomatic_Complexity  Function_Length  \\\n",
      "Cyclomatic_Complexity               1.000000         0.641808   \n",
      "Function_Length                     0.641808         1.000000   \n",
      "Number_of_Loops                     0.574696         0.798431   \n",
      "Modularity                         -0.511331        -0.425850   \n",
      "Comment_Quality                    -0.300791        -0.487168   \n",
      "Naming_Quality                     -0.057087        -0.517978   \n",
      "Final_Score                        -0.236080        -0.528249   \n",
      "\n",
      "                       Number_of_Loops  Modularity  Comment_Quality  \\\n",
      "Cyclomatic_Complexity         0.574696   -0.511331        -0.300791   \n",
      "Function_Length               0.798431   -0.425850        -0.487168   \n",
      "Number_of_Loops               1.000000   -0.371367        -0.503658   \n",
      "Modularity                   -0.371367    1.000000         0.352138   \n",
      "Comment_Quality              -0.503658    0.352138         1.000000   \n",
      "Naming_Quality               -0.506513    0.462918         0.766762   \n",
      "Final_Score                  -0.531146    0.456756         0.943829   \n",
      "\n",
      "                       Naming_Quality  Final_Score  \n",
      "Cyclomatic_Complexity       -0.057087    -0.236080  \n",
      "Function_Length             -0.517978    -0.528249  \n",
      "Number_of_Loops             -0.506513    -0.531146  \n",
      "Modularity                   0.462918     0.456756  \n",
      "Comment_Quality              0.766762     0.943829  \n",
      "Naming_Quality               1.000000     0.909987  \n",
      "Final_Score                  0.909987     1.000000  \n"
     ]
    }
   ],
   "source": [
    "# Correlation\n",
    "numeric_columns = df.select_dtypes(include=['float64', 'int64'])\n",
    "correlation_matrix = numeric_columns.corr()\n",
    "# Print the correlation matrix\n",
    "print(correlation_matrix)\n"
   ]
  },
  {
   "cell_type": "code",
   "execution_count": 22,
   "id": "14bde380-4890-49a3-ab3c-7931418e5feb",
   "metadata": {},
   "outputs": [],
   "source": [
    "X = numeric_columns.drop(columns=['Final_Score'])  # Features\n",
    "y = df['Final_Score']  # Target (Final Score)\n"
   ]
  },
  {
   "cell_type": "code",
   "execution_count": 23,
   "id": "8de0e607-13da-47de-8484-a847ffb33dec",
   "metadata": {},
   "outputs": [],
   "source": [
    "from sklearn.model_selection import train_test_split\n",
    "\n",
    "X_train, X_test, y_train, y_test = train_test_split(X, y, test_size=0.2, random_state=42)\n"
   ]
  },
  {
   "cell_type": "code",
   "execution_count": 24,
   "id": "f5dc21eb-803c-4d57-ad10-5bd33ea1ef48",
   "metadata": {},
   "outputs": [
    {
     "name": "stdout",
     "output_type": "stream",
     "text": [
      "Mean Absolute Error: 0.4659583333333333\n",
      "R-squared: 0.9673339572318572\n"
     ]
    }
   ],
   "source": [
    "#RandomForest\n",
    "from sklearn.ensemble import RandomForestRegressor\n",
    "from sklearn.metrics import mean_absolute_error, r2_score\n",
    "\n",
    "modelRF = RandomForestRegressor(random_state=42)\n",
    "modelRF.fit(X_train, y_train)\n",
    "\n",
    "# Predictions\n",
    "y_pred = modelRF.predict(X_test)\n",
    "\n",
    "# Evaluate the model\n",
    "print(\"Mean Absolute Error:\", mean_absolute_error(y_test, y_pred))\n",
    "print(\"R-squared:\", r2_score(y_test, y_pred))\n"
   ]
  },
  {
   "cell_type": "code",
   "execution_count": 26,
   "id": "e040eb91-2f83-4360-85a0-27ffdb82e45d",
   "metadata": {},
   "outputs": [
    {
     "name": "stdout",
     "output_type": "stream",
     "text": [
      "Mean Absolute Error: 0.37780716957105015\n",
      "R-squared: 0.9809062104631733\n"
     ]
    }
   ],
   "source": [
    "from sklearn.linear_model import LinearRegression\n",
    "from sklearn.metrics import mean_absolute_error, r2_score\n",
    "\n",
    "modelLR = LinearRegression()\n",
    "modelLR.fit(X_train, y_train)\n",
    "\n",
    "# Predictions\n",
    "y_pred = modelLR.predict(X_test)\n",
    "\n",
    "# Evaluate the model\n",
    "print(\"Mean Absolute Error:\", mean_absolute_error(y_test, y_pred))\n",
    "print(\"R-squared:\", r2_score(y_test, y_pred))\n"
   ]
  },
  {
   "cell_type": "code",
   "execution_count": 27,
   "id": "d66afc23-d639-4768-8ef0-88b7e56ca082",
   "metadata": {},
   "outputs": [
    {
     "name": "stdout",
     "output_type": "stream",
     "text": [
      "Mean Absolute Error: 0.875\n",
      "R-squared: 0.8686647583768311\n"
     ]
    }
   ],
   "source": [
    "from sklearn.tree import DecisionTreeRegressor\n",
    "\n",
    "modelDT = DecisionTreeRegressor(random_state=42)\n",
    "modelDT.fit(X_train, y_train)\n",
    "\n",
    "# Predictions\n",
    "y_pred = modelDT.predict(X_test)\n",
    "\n",
    "# Evaluate the model\n",
    "print(\"Mean Absolute Error:\", mean_absolute_error(y_test, y_pred))\n",
    "print(\"R-squared:\", r2_score(y_test, y_pred))\n"
   ]
  },
  {
   "cell_type": "code",
   "execution_count": 28,
   "id": "6c0a9441-fbe5-4883-a811-d810e4dab9a6",
   "metadata": {},
   "outputs": [
    {
     "name": "stdout",
     "output_type": "stream",
     "text": [
      "Mean Absolute Error: 0.6534615806354951\n",
      "R-squared: 0.9324477089435264\n"
     ]
    }
   ],
   "source": [
    "from sklearn.svm import SVR\n",
    "\n",
    "modelSVR = SVR()\n",
    "modelSVR.fit(X_train, y_train)\n",
    "\n",
    "# Predictions\n",
    "y_pred = modelSVR.predict(X_test)\n",
    "\n",
    "# Evaluate the model\n",
    "print(\"Mean Absolute Error:\", mean_absolute_error(y_test, y_pred))\n",
    "print(\"R-squared:\", r2_score(y_test, y_pred))\n"
   ]
  },
  {
   "cell_type": "code",
   "execution_count": 29,
   "id": "5ec1ce22-e161-40f0-9b33-c6e8015d9851",
   "metadata": {},
   "outputs": [
    {
     "name": "stdout",
     "output_type": "stream",
     "text": [
      "Mean Absolute Error: 0.40590710267047087\n",
      "R-squared: 0.9761764845812602\n"
     ]
    }
   ],
   "source": [
    "from sklearn.ensemble import GradientBoostingRegressor\n",
    "\n",
    "modelGB = GradientBoostingRegressor(random_state=42)\n",
    "modelGB.fit(X_train, y_train)\n",
    "\n",
    "# Predictions\n",
    "y_pred = modelGB.predict(X_test)\n",
    "\n",
    "# Evaluate the model\n",
    "print(\"Mean Absolute Error:\", mean_absolute_error(y_test, y_pred))\n",
    "print(\"R-squared:\", r2_score(y_test, y_pred))\n"
   ]
  },
  {
   "cell_type": "code",
   "execution_count": 30,
   "id": "516711aa-ebc2-4a4f-aa75-68f363cf8356",
   "metadata": {},
   "outputs": [
    {
     "name": "stdout",
     "output_type": "stream",
     "text": [
      "Mean Absolute Error: 0.8416666666666667\n",
      "R-squared: 0.8925879777740361\n"
     ]
    }
   ],
   "source": [
    "from sklearn.neighbors import KNeighborsRegressor\n",
    "\n",
    "modelKNN = KNeighborsRegressor(n_neighbors=5)\n",
    "modelKNN.fit(X_train, y_train)\n",
    "\n",
    "# Predictions\n",
    "y_pred = modelKNN.predict(X_test)\n",
    "\n",
    "# Evaluate the model\n",
    "print(\"Mean Absolute Error:\", mean_absolute_error(y_test, y_pred))\n",
    "print(\"R-squared:\", r2_score(y_test, y_pred))\n"
   ]
  },
  {
   "cell_type": "code",
   "execution_count": 31,
   "id": "ad5505d4-43df-49ee-aca6-9e0412c09f50",
   "metadata": {},
   "outputs": [
    {
     "name": "stdout",
     "output_type": "stream",
     "text": [
      "Mean Absolute Error: 0.5815794067929102\n",
      "R-squared: 0.962429828041204\n"
     ]
    }
   ],
   "source": [
    "from sklearn.linear_model import Lasso\n",
    "\n",
    "modelLasso = Lasso(alpha=0.1)\n",
    "modelLasso.fit(X_train, y_train)\n",
    "\n",
    "# Predictions\n",
    "y_pred = modelLasso.predict(X_test)\n",
    "\n",
    "# Evaluate the model\n",
    "print(\"Mean Absolute Error:\", mean_absolute_error(y_test, y_pred))\n",
    "print(\"R-squared:\", r2_score(y_test, y_pred))\n"
   ]
  },
  {
   "cell_type": "code",
   "execution_count": 32,
   "id": "38f56c66-2658-4d4d-94b0-bf237c800c24",
   "metadata": {},
   "outputs": [
    {
     "name": "stdout",
     "output_type": "stream",
     "text": [
      "Mean Absolute Error: 0.5235931647611062\n",
      "R-squared: 0.9679289513258491\n"
     ]
    }
   ],
   "source": [
    "from sklearn.linear_model import Ridge\n",
    "\n",
    "modelRidge = Ridge(alpha=1.0)\n",
    "modelRidge.fit(X_train, y_train)\n",
    "\n",
    "# Predictions\n",
    "y_pred = modelRidge.predict(X_test)\n",
    "\n",
    "# Evaluate the model\n",
    "print(\"Mean Absolute Error:\", mean_absolute_error(y_test, y_pred))\n",
    "print(\"R-squared:\", r2_score(y_test, y_pred))\n"
   ]
  },
  {
   "cell_type": "markdown",
   "id": "01eac1c2-9504-4ef6-959d-4907f5c4f57b",
   "metadata": {},
   "source": [
    "### Best Performance:  Random Forest, Linear, Gradient, Lasso, Ridge Regressions"
   ]
  },
  {
   "cell_type": "code",
   "execution_count": null,
   "id": "5abb9dda-36e9-4be0-91a5-bf583813c92f",
   "metadata": {},
   "outputs": [],
   "source": []
  }
 ],
 "metadata": {
  "kernelspec": {
   "display_name": "Python 3.11",
   "language": "python",
   "name": "python311"
  },
  "language_info": {
   "codemirror_mode": {
    "name": "ipython",
    "version": 3
   },
   "file_extension": ".py",
   "mimetype": "text/x-python",
   "name": "python",
   "nbconvert_exporter": "python",
   "pygments_lexer": "ipython3",
   "version": "3.11.5"
  }
 },
 "nbformat": 4,
 "nbformat_minor": 5
}
